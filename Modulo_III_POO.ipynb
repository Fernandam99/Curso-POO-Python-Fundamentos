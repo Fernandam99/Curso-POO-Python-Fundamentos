# MODULO III: METODOS MAGICOS Y MODIFICADORES DE ACCESO

# 1. Métodos mágicos en Python

# Son métodos especiales con nombres que comienzan y terminan con doble guión bajo (__metodo__). 
# Python los llama automáticamente en momentos específicos.

# | MÉTODO      | FUNCIÓN                                                      |
# |-------------|--------------------------------------------------------------|
# | __init__()  | Constructor al crear el objeto                               |
# | __str__()   | Representación en forma de texto cuando se imprime el objeto|
# | __repr__()  | Representación para debugging                                |
# | __len__()   | Retorna la longitud con len(objeto)                          |
# | __eq__()    | Permite definir cuando dos objetos se consideran iguales     |


# 2. Método __str__()

# Se ejecuta automáticamente cuando usamos print(objeto) o str(objeto)

class Producto:
    def __init__(self, nombre, precio):
        self.nombre = nombre
        self.precio = precio
    
    def __str__(self):
        return f"Producto: {self.nombre}, Precio: {self.precio}"
    
    def __repr__(self):
        return f"Producto({self.nombre}, {self.precio})"
    
    def __eq__(self, otro):
        if isinstance(otro, Producto):
            return self.nombre == otro.nombre and self.precio == otro.precio
        return False

p1 = Producto("Manzana", 0.5)
print(p1)  # Producto: Manzana, Precio: 0.5


# 3. Modificadores de acceso

# Python no tiene modificadores estrictos como public, private, o protected, pero se usan convenciones:

# Notación           Visibilidad            Ejemplo
# Pública             Libre acceso          self.nombre 
# Protegida (_)       Convención interna    self._nombre
# Privada (__)        Acceso restringido    self.__nombre

class Alumno:
    def __init__(self, cedula, nombre):
        self.cedula = cedula       # público
        self._nombre = nombre      # protegido
        self.__nota = 4.5          # privado

    def obtener_nota(self):
        return self.__nota

a1 = Alumno("12345678", "Juan")
print(a1.cedula)             # 12345678
print(a1._nombre)            # Juan
print(a1.obtener_nota())     # 4.5


# 4. Acceso desde otra clase

class Materia:
    def __init__(self, nombre):
        self.nombre = nombre

    def consultar_alumno(self):
        a = Alumno("12345678", "Juan")
        print(a._nombre)  # Acceso al atributo protegido

m = Materia("Matemáticas")
m.consultar_alumno()  # Juan


# 5. Versión consolidada de Alumno + Materia

class Alumno:
    def __init__(self, cedula, nombre):
        self.cedula = cedula
        self._nombre = nombre
        self.__nota = 4.5

    def obtener_nota(self):
        return self.__nota

a = Alumno("12345678", "Juan")
print(a.cedula)          # ok
print(a._nombre)         # ok
print(a.obtener_nota())  # ok

class Materia:
    def consultar_alumno(self):
        a = Alumno("12345678", "Juan")
        print(a._nombre)

m = Materia()
m.consultar_alumno()  # Juan


# ACTIVIDAD PRÁCTICA DEL MÓDULO

class Producto:
    def __init__(self, nombre, precio):
        self.nombre = nombre
        self.__precio = precio  # privado

    def __str__(self):
        return f"Producto: {self.nombre}, Precio: {self.__precio}"

    def consultar_precio(self):
        return self.__precio

p1 = Producto("CAMISETA", 30000)
p2 = Producto("PANTALON", 50000)

print(p1)
print(p2)
print("Precio p1:", p1.consultar_precio())


# EJERCICIO I

class CuentaBancaria:
    def __init__(self, titular, saldo):
        self.titular = titular
        self.__saldo = saldo

    def consultar_saldo(self):
        return self.__saldo

cuenta = CuentaBancaria("Laura", 1500000)
print("Titular:", cuenta.titular)
print("Saldo Actual:", cuenta.consultar_saldo())

try:
    print("Acceso directo:", cuenta.__saldo)
except AttributeError as e:
    print("Error:", e)


# EJERCICIO II

class Empleado:
    def __init__(self, salario):
        self._salario = salario

class Gerente(Empleado):
    def __init__(self, salario):
        super().__init__(salario)
        self._salario *= 1.20  # aumento del 20%

    def obtener_salario(self):
        return self._salario

empleado = Empleado(3000000)
print("Salario Base:", empleado._salario)

gerente = Gerente(3000000)
print("Salario con aumento:", gerente.obtener_salario())

